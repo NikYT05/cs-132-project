{
 "cells": [
  {
   "cell_type": "markdown",
   "id": "b3fd1b74-0d3b-426f-8724-953b764689e2",
   "metadata": {},
   "source": [
    "# Hypothesis Testing\n",
    "For our hypothesis test, we will be using <BLANK>"
   ]
  },
  {
   "cell_type": "markdown",
   "id": "f7f3a550-1938-40af-a54d-86665459c31d",
   "metadata": {},
   "source": [
    "# Research Questions\n",
    "1. Is there a significant difference in average household income between urban and rural areas in the Philippines?\n",
    "\n",
    "2. Does the cost of living affect the income disparity between urban and rural areas?\n"
   ]
  },
  {
   "cell_type": "code",
   "execution_count": 96,
   "id": "9a8b7b46-46aa-49b0-8182-3fc9e0c697f6",
   "metadata": {},
   "outputs": [],
   "source": [
    "import re\n",
    "import pandas as pd\n",
    "import scipy\n",
    "import numpy as np\n",
    "import seaborn as sns\n",
    "import matplotlib.pyplot as plt\n",
    "import statsmodels.api as sm\n",
    "\n",
    "def convert_google_sheet_url(url):\n",
    "    # Regular expression to match and capture the necessary part of the URL\n",
    "    pattern = r'https://docs\\.google\\.com/spreadsheets/d/([a-zA-Z0-9-_]+)(/edit#gid=(\\d+)|/edit.*)?'\n",
    "\n",
    "    # Replace function to construct the new URL for CSV export\n",
    "    # If gid is present in the URL, it includes it in the export URL, otherwise, it's omitted\n",
    "    replacement = lambda m: f'https://docs.google.com/spreadsheets/d/{m.group(1)}/export?' + (f'gid={m.group(3)}&' if m.group(3) else '') + 'format=csv'\n",
    "\n",
    "    # Replace using regex\n",
    "    new_url = re.sub(pattern, replacement, url)\n",
    "\n",
    "    return new_url"
   ]
  },
  {
   "cell_type": "markdown",
   "id": "a55c526f-ec72-4821-b1c1-bc1f577169eb",
   "metadata": {},
   "source": [
    "# Preprocessing\n",
    "We will stich together the multiple sheets into one mastersheet so that we can properly do some magic. Below are some functions used to effectively preprocess the data.\n",
    "\n",
    "To easily separate them, we add a new column called 'YEAR' which contains which year in which the FIES was collected"
   ]
  },
  {
   "cell_type": "code",
   "execution_count": 9,
   "id": "ed78b479-77c4-4db2-ad2d-ab912a4f47e7",
   "metadata": {},
   "outputs": [
    {
     "name": "stdout",
     "output_type": "stream",
     "text": [
      "complete\n",
      "complete\n",
      "complete\n",
      "complete\n",
      "complete\n",
      "complete\n",
      "complete\n",
      "complete\n",
      "complete\n",
      "complete\n"
     ]
    }
   ],
   "source": [
    "dataset_url = 'https://docs.google.com/spreadsheets/d/1WvPYjCbY-jXhDB_-R0UMtUXj_fmhGbsM/edit'\n",
    "dataset_sheets = [\n",
    "    (1991, 'https://docs.google.com/spreadsheets/d/1WvPYjCbY-jXhDB_-R0UMtUXj_fmhGbsM/edit#gid=103037532'),\n",
    "    (1994, 'https://docs.google.com/spreadsheets/d/1WvPYjCbY-jXhDB_-R0UMtUXj_fmhGbsM/edit#gid=2100587492'),\n",
    "    (1997, 'https://docs.google.com/spreadsheets/d/1WvPYjCbY-jXhDB_-R0UMtUXj_fmhGbsM/edit#gid=172281918'),\n",
    "    (2000, 'https://docs.google.com/spreadsheets/d/1WvPYjCbY-jXhDB_-R0UMtUXj_fmhGbsM/edit#gid=1648603626'),\n",
    "    (2003, 'https://docs.google.com/spreadsheets/d/1WvPYjCbY-jXhDB_-R0UMtUXj_fmhGbsM/edit#gid=308318816'),\n",
    "    (2006, 'https://docs.google.com/spreadsheets/d/1WvPYjCbY-jXhDB_-R0UMtUXj_fmhGbsM/edit#gid=284607147'),\n",
    "    (2009, 'https://docs.google.com/spreadsheets/d/1WvPYjCbY-jXhDB_-R0UMtUXj_fmhGbsM/edit#gid=457620696'),\n",
    "    (2012, 'https://docs.google.com/spreadsheets/d/1WvPYjCbY-jXhDB_-R0UMtUXj_fmhGbsM/edit#gid=2124514616'),\n",
    "    (2015, 'https://docs.google.com/spreadsheets/d/1WvPYjCbY-jXhDB_-R0UMtUXj_fmhGbsM/edit#gid=174256795'),\n",
    "    (2018, 'https://docs.google.com/spreadsheets/d/1WvPYjCbY-jXhDB_-R0UMtUXj_fmhGbsM/edit#gid=1844728002'),\n",
    "]\n",
    "\n",
    "sheets = []\n",
    "\n",
    "# TODO - Standardize this \n",
    "for year, sheet in dataset_sheets:\n",
    "    print(year, end='\\r')\n",
    "    proper_url = convert_google_sheet_url(sheet)\n",
    "    gsheet = pd.read_csv(proper_url, low_memory=False)\n",
    "    gsheet.insert(0, 'YEAR', year)\n",
    "    print('complete')\n",
    "    sheets.append(gsheet)\n",
    "\n",
    "dataset = pd.concat(sheets)"
   ]
  },
  {
   "cell_type": "code",
   "execution_count": 56,
   "id": "ff0c9374-0d3b-4d3a-a7f7-d2223795a93b",
   "metadata": {},
   "outputs": [
    {
     "data": {
      "text/html": [
       "<div>\n",
       "<style scoped>\n",
       "    .dataframe tbody tr th:only-of-type {\n",
       "        vertical-align: middle;\n",
       "    }\n",
       "\n",
       "    .dataframe tbody tr th {\n",
       "        vertical-align: top;\n",
       "    }\n",
       "\n",
       "    .dataframe thead th {\n",
       "        text-align: right;\n",
       "    }\n",
       "</style>\n",
       "<table border=\"1\" class=\"dataframe\">\n",
       "  <thead>\n",
       "    <tr style=\"text-align: right;\">\n",
       "      <th></th>\n",
       "      <th>YEAR</th>\n",
       "      <th>REGN</th>\n",
       "      <th>URB</th>\n",
       "      <th>TOINC</th>\n",
       "    </tr>\n",
       "  </thead>\n",
       "  <tbody>\n",
       "    <tr>\n",
       "      <th>0</th>\n",
       "      <td>1991</td>\n",
       "      <td>0</td>\n",
       "      <td>1</td>\n",
       "      <td>42153.0</td>\n",
       "    </tr>\n",
       "    <tr>\n",
       "      <th>1</th>\n",
       "      <td>1991</td>\n",
       "      <td>0</td>\n",
       "      <td>1</td>\n",
       "      <td>26938.0</td>\n",
       "    </tr>\n",
       "    <tr>\n",
       "      <th>2</th>\n",
       "      <td>1991</td>\n",
       "      <td>0</td>\n",
       "      <td>1</td>\n",
       "      <td>84773.0</td>\n",
       "    </tr>\n",
       "    <tr>\n",
       "      <th>3</th>\n",
       "      <td>1991</td>\n",
       "      <td>0</td>\n",
       "      <td>1</td>\n",
       "      <td>56075.0</td>\n",
       "    </tr>\n",
       "    <tr>\n",
       "      <th>4</th>\n",
       "      <td>1991</td>\n",
       "      <td>0</td>\n",
       "      <td>1</td>\n",
       "      <td>45658.0</td>\n",
       "    </tr>\n",
       "    <tr>\n",
       "      <th>...</th>\n",
       "      <td>...</td>\n",
       "      <td>...</td>\n",
       "      <td>...</td>\n",
       "      <td>...</td>\n",
       "    </tr>\n",
       "    <tr>\n",
       "      <th>147712</th>\n",
       "      <td>2018</td>\n",
       "      <td>17</td>\n",
       "      <td>2</td>\n",
       "      <td>382676.0</td>\n",
       "    </tr>\n",
       "    <tr>\n",
       "      <th>147713</th>\n",
       "      <td>2018</td>\n",
       "      <td>17</td>\n",
       "      <td>2</td>\n",
       "      <td>184325.0</td>\n",
       "    </tr>\n",
       "    <tr>\n",
       "      <th>147714</th>\n",
       "      <td>2018</td>\n",
       "      <td>17</td>\n",
       "      <td>2</td>\n",
       "      <td>900861.0</td>\n",
       "    </tr>\n",
       "    <tr>\n",
       "      <th>147715</th>\n",
       "      <td>2018</td>\n",
       "      <td>17</td>\n",
       "      <td>2</td>\n",
       "      <td>65255.0</td>\n",
       "    </tr>\n",
       "    <tr>\n",
       "      <th>147716</th>\n",
       "      <td>2018</td>\n",
       "      <td>17</td>\n",
       "      <td>2</td>\n",
       "      <td>167272.0</td>\n",
       "    </tr>\n",
       "  </tbody>\n",
       "</table>\n",
       "<p>435036 rows × 4 columns</p>\n",
       "</div>"
      ],
      "text/plain": [
       "        YEAR REGN  URB     TOINC\n",
       "0       1991    0    1   42153.0\n",
       "1       1991    0    1   26938.0\n",
       "2       1991    0    1   84773.0\n",
       "3       1991    0    1   56075.0\n",
       "4       1991    0    1   45658.0\n",
       "...      ...  ...  ...       ...\n",
       "147712  2018   17    2  382676.0\n",
       "147713  2018   17    2  184325.0\n",
       "147714  2018   17    2  900861.0\n",
       "147715  2018   17    2   65255.0\n",
       "147716  2018   17    2  167272.0\n",
       "\n",
       "[435036 rows x 4 columns]"
      ]
     },
     "execution_count": 56,
     "metadata": {},
     "output_type": "execute_result"
    }
   ],
   "source": [
    "dataset['TOINC'] = pd.to_numeric(dataset['TOINC'], errors='coerce')\n",
    "dataset['YEAR'] = pd.to_numeric(dataset['YEAR'], errors='coerce')\n",
    "dataset['URB'] = pd.to_numeric(dataset['URB'], errors='coerce')\n",
    "\n",
    "fixed_dataset = dataset.dropna(axis='rows').astype({'YEAR': 'int', 'URB':int})\n",
    "fixed_dataset"
   ]
  },
  {
   "cell_type": "markdown",
   "id": "d312aac5-8bdb-4a9b-a202-8519f4feaf5c",
   "metadata": {},
   "source": [
    "# Research Question 1\n",
    "> Is there a significant difference in average household income between urban and rural areas in the Philippines?\n",
    "\n",
    "To test our hypothesis, we decided to use a 1-sample t-test for our hypothesis test. We used two variables, Urbanity and Total Income for this"
   ]
  },
  {
   "cell_type": "code",
   "execution_count": 28,
   "id": "a5f83c1a",
   "metadata": {},
   "outputs": [
    {
     "data": {
      "text/plain": [
       "TtestResult(statistic=421.8469444719112, pvalue=0.0, df=870070.0)"
      ]
     },
     "execution_count": 28,
     "metadata": {},
     "output_type": "execute_result"
    }
   ],
   "source": [
    "import scipy.stats\n",
    "\n",
    "\n",
    "a = fixed_dataset.loc[:, 'TOINC']\n",
    "b = fixed_dataset.loc[:, 'URB']\n",
    "\n",
    "scipy.stats.ttest_ind(a,b)"
   ]
  },
  {
   "cell_type": "markdown",
   "id": "b36fe07a",
   "metadata": {},
   "source": [
    "Based from the above test, there seems to be a relationship between urbanity and the total income between the regions"
   ]
  },
  {
   "cell_type": "markdown",
   "id": "f4bc73ce",
   "metadata": {},
   "source": [
    "# Research Question 2\n",
    "> Does the cost of living affect the income disparity between urban and rural areas?\n",
    "\n",
    "Income disparity is measured by the Gini index of a country. \n",
    "\n",
    "Unfortunately, the dataset for the CPI is in another sheet. We'll be loading that shortly soon enough "
   ]
  },
  {
   "cell_type": "code",
   "execution_count": 29,
   "id": "f650551b",
   "metadata": {},
   "outputs": [
    {
     "data": {
      "text/html": [
       "<div>\n",
       "<style scoped>\n",
       "    .dataframe tbody tr th:only-of-type {\n",
       "        vertical-align: middle;\n",
       "    }\n",
       "\n",
       "    .dataframe tbody tr th {\n",
       "        vertical-align: top;\n",
       "    }\n",
       "\n",
       "    .dataframe thead th {\n",
       "        text-align: right;\n",
       "    }\n",
       "</style>\n",
       "<table border=\"1\" class=\"dataframe\">\n",
       "  <thead>\n",
       "    <tr style=\"text-align: right;\">\n",
       "      <th></th>\n",
       "      <th>Year</th>\n",
       "      <th>Consumer Price Index</th>\n",
       "      <th>Inflation: Consumer Price Index</th>\n",
       "      <th>Wholesale Price Index</th>\n",
       "      <th>Inflation: GDP Deflator</th>\n",
       "      <th>Inflation: GDP Deflator: Linked Series</th>\n",
       "      <th>(DC)Consumer Price Index</th>\n",
       "      <th>(DC)Wholesale Price Index</th>\n",
       "    </tr>\n",
       "  </thead>\n",
       "  <tbody>\n",
       "    <tr>\n",
       "      <th>0</th>\n",
       "      <td>1960</td>\n",
       "      <td>1.13</td>\n",
       "      <td>4.15</td>\n",
       "      <td>0.86</td>\n",
       "      <td>NaN</td>\n",
       "      <td>NaN</td>\n",
       "      <td>1.57</td>\n",
       "      <td>NaN</td>\n",
       "    </tr>\n",
       "    <tr>\n",
       "      <th>1</th>\n",
       "      <td>1961</td>\n",
       "      <td>1.15</td>\n",
       "      <td>1.60</td>\n",
       "      <td>0.91</td>\n",
       "      <td>3.12</td>\n",
       "      <td>NaN</td>\n",
       "      <td>1.59</td>\n",
       "      <td>NaN</td>\n",
       "    </tr>\n",
       "    <tr>\n",
       "      <th>2</th>\n",
       "      <td>1962</td>\n",
       "      <td>1.21</td>\n",
       "      <td>5.80</td>\n",
       "      <td>0.96</td>\n",
       "      <td>6.73</td>\n",
       "      <td>NaN</td>\n",
       "      <td>1.68</td>\n",
       "      <td>NaN</td>\n",
       "    </tr>\n",
       "    <tr>\n",
       "      <th>3</th>\n",
       "      <td>1963</td>\n",
       "      <td>1.28</td>\n",
       "      <td>5.63</td>\n",
       "      <td>1.05</td>\n",
       "      <td>8.91</td>\n",
       "      <td>NaN</td>\n",
       "      <td>1.78</td>\n",
       "      <td>NaN</td>\n",
       "    </tr>\n",
       "    <tr>\n",
       "      <th>4</th>\n",
       "      <td>1964</td>\n",
       "      <td>1.39</td>\n",
       "      <td>8.18</td>\n",
       "      <td>1.09</td>\n",
       "      <td>4.58</td>\n",
       "      <td>NaN</td>\n",
       "      <td>1.92</td>\n",
       "      <td>NaN</td>\n",
       "    </tr>\n",
       "    <tr>\n",
       "      <th>...</th>\n",
       "      <td>...</td>\n",
       "      <td>...</td>\n",
       "      <td>...</td>\n",
       "      <td>...</td>\n",
       "      <td>...</td>\n",
       "      <td>...</td>\n",
       "      <td>...</td>\n",
       "      <td>...</td>\n",
       "    </tr>\n",
       "    <tr>\n",
       "      <th>58</th>\n",
       "      <td>2018</td>\n",
       "      <td>126.59</td>\n",
       "      <td>5.31</td>\n",
       "      <td>123.29</td>\n",
       "      <td>3.74</td>\n",
       "      <td>3.74</td>\n",
       "      <td>NaN</td>\n",
       "      <td>NaN</td>\n",
       "    </tr>\n",
       "    <tr>\n",
       "      <th>59</th>\n",
       "      <td>2019</td>\n",
       "      <td>129.62</td>\n",
       "      <td>2.39</td>\n",
       "      <td>125.31</td>\n",
       "      <td>0.70</td>\n",
       "      <td>0.70</td>\n",
       "      <td>NaN</td>\n",
       "      <td>NaN</td>\n",
       "    </tr>\n",
       "    <tr>\n",
       "      <th>60</th>\n",
       "      <td>2020</td>\n",
       "      <td>132.72</td>\n",
       "      <td>2.39</td>\n",
       "      <td>128.32</td>\n",
       "      <td>1.65</td>\n",
       "      <td>1.65</td>\n",
       "      <td>NaN</td>\n",
       "      <td>NaN</td>\n",
       "    </tr>\n",
       "    <tr>\n",
       "      <th>61</th>\n",
       "      <td>2021</td>\n",
       "      <td>137.94</td>\n",
       "      <td>3.93</td>\n",
       "      <td>132.25</td>\n",
       "      <td>2.28</td>\n",
       "      <td>2.28</td>\n",
       "      <td>NaN</td>\n",
       "      <td>NaN</td>\n",
       "    </tr>\n",
       "    <tr>\n",
       "      <th>62</th>\n",
       "      <td>2022</td>\n",
       "      <td>145.97</td>\n",
       "      <td>5.82</td>\n",
       "      <td>NaN</td>\n",
       "      <td>5.48</td>\n",
       "      <td>5.48</td>\n",
       "      <td>NaN</td>\n",
       "      <td>NaN</td>\n",
       "    </tr>\n",
       "  </tbody>\n",
       "</table>\n",
       "<p>63 rows × 8 columns</p>\n",
       "</div>"
      ],
      "text/plain": [
       "    Year  Consumer Price Index  Inflation: Consumer Price Index  \\\n",
       "0   1960                  1.13                             4.15   \n",
       "1   1961                  1.15                             1.60   \n",
       "2   1962                  1.21                             5.80   \n",
       "3   1963                  1.28                             5.63   \n",
       "4   1964                  1.39                             8.18   \n",
       "..   ...                   ...                              ...   \n",
       "58  2018                126.59                             5.31   \n",
       "59  2019                129.62                             2.39   \n",
       "60  2020                132.72                             2.39   \n",
       "61  2021                137.94                             3.93   \n",
       "62  2022                145.97                             5.82   \n",
       "\n",
       "    Wholesale Price Index  Inflation: GDP Deflator  \\\n",
       "0                    0.86                      NaN   \n",
       "1                    0.91                     3.12   \n",
       "2                    0.96                     6.73   \n",
       "3                    1.05                     8.91   \n",
       "4                    1.09                     4.58   \n",
       "..                    ...                      ...   \n",
       "58                 123.29                     3.74   \n",
       "59                 125.31                     0.70   \n",
       "60                 128.32                     1.65   \n",
       "61                 132.25                     2.28   \n",
       "62                    NaN                     5.48   \n",
       "\n",
       "    Inflation: GDP Deflator: Linked Series  (DC)Consumer Price Index  \\\n",
       "0                                      NaN                      1.57   \n",
       "1                                      NaN                      1.59   \n",
       "2                                      NaN                      1.68   \n",
       "3                                      NaN                      1.78   \n",
       "4                                      NaN                      1.92   \n",
       "..                                     ...                       ...   \n",
       "58                                    3.74                       NaN   \n",
       "59                                    0.70                       NaN   \n",
       "60                                    1.65                       NaN   \n",
       "61                                    2.28                       NaN   \n",
       "62                                    5.48                       NaN   \n",
       "\n",
       "    (DC)Wholesale Price Index  \n",
       "0                         NaN  \n",
       "1                         NaN  \n",
       "2                         NaN  \n",
       "3                         NaN  \n",
       "4                         NaN  \n",
       "..                        ...  \n",
       "58                        NaN  \n",
       "59                        NaN  \n",
       "60                        NaN  \n",
       "61                        NaN  \n",
       "62                        NaN  \n",
       "\n",
       "[63 rows x 8 columns]"
      ]
     },
     "execution_count": 29,
     "metadata": {},
     "output_type": "execute_result"
    }
   ],
   "source": [
    "CPI_dset = pd.read_csv('./[CS 132] WFY Autumn - Dataset - Consumer Price Index.csv', low_memory=False, on_bad_lines='skip')\n",
    "CPI_dset"
   ]
  },
  {
   "cell_type": "markdown",
   "id": "c9d566fa",
   "metadata": {},
   "source": [
    "We compute the average rural income and the average urban income as shown below"
   ]
  },
  {
   "cell_type": "code",
   "execution_count": 108,
   "id": "36f609f9",
   "metadata": {},
   "outputs": [
    {
     "data": {
      "text/html": [
       "<div>\n",
       "<style scoped>\n",
       "    .dataframe tbody tr th:only-of-type {\n",
       "        vertical-align: middle;\n",
       "    }\n",
       "\n",
       "    .dataframe tbody tr th {\n",
       "        vertical-align: top;\n",
       "    }\n",
       "\n",
       "    .dataframe thead th {\n",
       "        text-align: right;\n",
       "    }\n",
       "</style>\n",
       "<table border=\"1\" class=\"dataframe\">\n",
       "  <thead>\n",
       "    <tr style=\"text-align: right;\">\n",
       "      <th></th>\n",
       "      <th>YEAR</th>\n",
       "      <th>URB</th>\n",
       "      <th>TOINC</th>\n",
       "    </tr>\n",
       "  </thead>\n",
       "  <tbody>\n",
       "    <tr>\n",
       "      <th>0</th>\n",
       "      <td>1991</td>\n",
       "      <td>1</td>\n",
       "      <td>92958.037239</td>\n",
       "    </tr>\n",
       "    <tr>\n",
       "      <th>2</th>\n",
       "      <td>1994</td>\n",
       "      <td>1</td>\n",
       "      <td>123823.472829</td>\n",
       "    </tr>\n",
       "    <tr>\n",
       "      <th>4</th>\n",
       "      <td>1997</td>\n",
       "      <td>1</td>\n",
       "      <td>158172.017330</td>\n",
       "    </tr>\n",
       "    <tr>\n",
       "      <th>6</th>\n",
       "      <td>2000</td>\n",
       "      <td>1</td>\n",
       "      <td>182082.979213</td>\n",
       "    </tr>\n",
       "    <tr>\n",
       "      <th>8</th>\n",
       "      <td>2006</td>\n",
       "      <td>1</td>\n",
       "      <td>231060.874269</td>\n",
       "    </tr>\n",
       "    <tr>\n",
       "      <th>10</th>\n",
       "      <td>2009</td>\n",
       "      <td>1</td>\n",
       "      <td>268843.801615</td>\n",
       "    </tr>\n",
       "    <tr>\n",
       "      <th>12</th>\n",
       "      <td>2012</td>\n",
       "      <td>1</td>\n",
       "      <td>296253.094842</td>\n",
       "    </tr>\n",
       "    <tr>\n",
       "      <th>14</th>\n",
       "      <td>2015</td>\n",
       "      <td>1</td>\n",
       "      <td>338080.255732</td>\n",
       "    </tr>\n",
       "    <tr>\n",
       "      <th>16</th>\n",
       "      <td>2018</td>\n",
       "      <td>1</td>\n",
       "      <td>371250.938945</td>\n",
       "    </tr>\n",
       "  </tbody>\n",
       "</table>\n",
       "</div>"
      ],
      "text/plain": [
       "    YEAR  URB          TOINC\n",
       "0   1991    1   92958.037239\n",
       "2   1994    1  123823.472829\n",
       "4   1997    1  158172.017330\n",
       "6   2000    1  182082.979213\n",
       "8   2006    1  231060.874269\n",
       "10  2009    1  268843.801615\n",
       "12  2012    1  296253.094842\n",
       "14  2015    1  338080.255732\n",
       "16  2018    1  371250.938945"
      ]
     },
     "execution_count": 108,
     "metadata": {},
     "output_type": "execute_result"
    }
   ],
   "source": [
    "average_income = fixed_dataset.groupby(['YEAR', 'URB'], as_index=False)['TOINC'].mean()\n",
    "average_income_urban = average_income.iloc[::2]  # even\n",
    "average_income_rural = average_income.iloc[1::2] # odd \n",
    "\n",
    "#average_income\n",
    "average_income_urban"
   ]
  },
  {
   "cell_type": "markdown",
   "id": "c1bedf55",
   "metadata": {},
   "source": [
    "Let's first graph this to see any disparities in between"
   ]
  },
  {
   "cell_type": "code",
   "execution_count": 109,
   "id": "cb964c85",
   "metadata": {},
   "outputs": [
    {
     "data": {
      "image/png": "[encoded data removed]",
      "text/plain": [
       "<Figure size 640x480 with 1 Axes>"
      ]
     },
     "metadata": {},
     "output_type": "display_data"
    }
   ],
   "source": [
    "sns.lineplot(average_income_urban, x='YEAR', y='TOINC')\n",
    "sns.lineplot(average_income_rural, x='YEAR', y='TOINC')\n",
    "plt.show()"
   ]
  },
  {
   "cell_type": "markdown",
   "id": "75f4ae16",
   "metadata": {},
   "source": [
    "We get the disparity by taking the difference between the two (urban - rural)"
   ]
  },
  {
   "cell_type": "code",
   "execution_count": 126,
   "id": "dc83b642",
   "metadata": {},
   "outputs": [
    {
     "data": {
      "image/png": "[encoded data removed]",
      "text/plain": [
       "<Figure size 640x480 with 1 Axes>"
      ]
     },
     "metadata": {},
     "output_type": "display_data"
    }
   ],
   "source": [
    "average_income['DISPARITY'] = average_income_urban['TOINC'].sub(average_income_rural['TOINC'], fill_value=0)\n",
    "\n",
    "sns.lineplot(average_income_urban, x='YEAR', y='TOINC')\n",
    "sns.lineplot(average_income_rural, x='YEAR', y='TOINC')\n",
    "sns.lineplot(average_income, x='YEAR', y='DISPARITY')\n",
    "plt.show()"
   ]
  },
  {
   "cell_type": "markdown",
   "id": "73fc7499",
   "metadata": {},
   "source": [
    "From this, we filter out the CPI dataset with only the years found in the average income dataset"
   ]
  },
  {
   "cell_type": "code",
   "execution_count": 136,
   "id": "7cf21615",
   "metadata": {},
   "outputs": [
    {
     "data": {
      "text/plain": [
       "<Axes: xlabel='Year', ylabel='Consumer Price Index'>"
      ]
     },
     "execution_count": 136,
     "metadata": {},
     "output_type": "execute_result"
    },
    {
     "data": {
      "image/png": "[encoded data removed]",
      "text/plain": [
       "<Figure size 640x480 with 1 Axes>"
      ]
     },
     "metadata": {},
     "output_type": "display_data"
    }
   ],
   "source": [
    "f = CPI_dset.filter(items=['Year', 'Consumer Price Index'])\n",
    "filtered = f.loc[f['Year'].isin(average_income['YEAR'])]\n",
    "\n",
    "sns.lineplot(filtered, x='Year', y='Consumer Price Index')"
   ]
  },
  {
   "cell_type": "markdown",
   "id": "f38d64ac",
   "metadata": {},
   "source": [
    "Now that we have preprocessed our CPI data to oblivion. We can perform the hypothesis test"
   ]
  },
  {
   "cell_type": "code",
   "execution_count": 139,
   "id": "bcd9b874",
   "metadata": {},
   "outputs": [
    {
     "ename": "KeyError",
     "evalue": "'YEAR'",
     "output_type": "error",
     "traceback": [
      "\u001b[1;31m---------------------------------------------------------------------------\u001b[0m",
      "\u001b[1;31mKeyError\u001b[0m                                  Traceback (most recent call last)",
      "\u001b[1;32m~\\AppData\\Local\\Temp\\ipykernel_7944\\1712898771.py\u001b[0m in \u001b[0;36m?\u001b[1;34m()\u001b[0m\n\u001b[1;32m----> 1\u001b[1;33m \u001b[0mfiltered\u001b[0m\u001b[1;33m.\u001b[0m\u001b[0mmerge\u001b[0m\u001b[1;33m(\u001b[0m\u001b[0maverage_income\u001b[0m\u001b[1;33m,\u001b[0m \u001b[0mhow\u001b[0m\u001b[1;33m=\u001b[0m\u001b[1;34m'right'\u001b[0m\u001b[1;33m,\u001b[0m \u001b[0mon\u001b[0m\u001b[1;33m=\u001b[0m\u001b[1;34m'YEAR'\u001b[0m\u001b[1;33m)\u001b[0m\u001b[1;33m\u001b[0m\u001b[1;33m\u001b[0m\u001b[0m\n\u001b[0m",
      "\u001b[1;32mc:\\Users\\wsant\\AppData\\Local\\Programs\\Python\\Python312\\Lib\\site-packages\\pandas\\core\\frame.py\u001b[0m in \u001b[0;36m?\u001b[1;34m(self, right, how, on, left_on, right_on, left_index, right_index, sort, suffixes, copy, indicator, validate)\u001b[0m\n\u001b[0;32m  10828\u001b[0m         \u001b[0mvalidate\u001b[0m\u001b[1;33m:\u001b[0m \u001b[0mMergeValidate\u001b[0m \u001b[1;33m|\u001b[0m \u001b[1;32mNone\u001b[0m \u001b[1;33m=\u001b[0m \u001b[1;32mNone\u001b[0m\u001b[1;33m,\u001b[0m\u001b[1;33m\u001b[0m\u001b[1;33m\u001b[0m\u001b[0m\n\u001b[0;32m  10829\u001b[0m     \u001b[1;33m)\u001b[0m \u001b[1;33m->\u001b[0m \u001b[0mDataFrame\u001b[0m\u001b[1;33m:\u001b[0m\u001b[1;33m\u001b[0m\u001b[1;33m\u001b[0m\u001b[0m\n\u001b[0;32m  10830\u001b[0m         \u001b[1;32mfrom\u001b[0m \u001b[0mpandas\u001b[0m\u001b[1;33m.\u001b[0m\u001b[0mcore\u001b[0m\u001b[1;33m.\u001b[0m\u001b[0mreshape\u001b[0m\u001b[1;33m.\u001b[0m\u001b[0mmerge\u001b[0m \u001b[1;32mimport\u001b[0m \u001b[0mmerge\u001b[0m\u001b[1;33m\u001b[0m\u001b[1;33m\u001b[0m\u001b[0m\n\u001b[0;32m  10831\u001b[0m \u001b[1;33m\u001b[0m\u001b[0m\n\u001b[1;32m> 10832\u001b[1;33m         return merge(\n\u001b[0m\u001b[0;32m  10833\u001b[0m             \u001b[0mself\u001b[0m\u001b[1;33m,\u001b[0m\u001b[1;33m\u001b[0m\u001b[1;33m\u001b[0m\u001b[0m\n\u001b[0;32m  10834\u001b[0m             \u001b[0mright\u001b[0m\u001b[1;33m,\u001b[0m\u001b[1;33m\u001b[0m\u001b[1;33m\u001b[0m\u001b[0m\n\u001b[0;32m  10835\u001b[0m             \u001b[0mhow\u001b[0m\u001b[1;33m=\u001b[0m\u001b[0mhow\u001b[0m\u001b[1;33m,\u001b[0m\u001b[1;33m\u001b[0m\u001b[1;33m\u001b[0m\u001b[0m\n",
      "\u001b[1;32mc:\\Users\\wsant\\AppData\\Local\\Programs\\Python\\Python312\\Lib\\site-packages\\pandas\\core\\reshape\\merge.py\u001b[0m in \u001b[0;36m?\u001b[1;34m(left, right, how, on, left_on, right_on, left_index, right_index, sort, suffixes, copy, indicator, validate)\u001b[0m\n\u001b[0;32m    166\u001b[0m             \u001b[0mvalidate\u001b[0m\u001b[1;33m=\u001b[0m\u001b[0mvalidate\u001b[0m\u001b[1;33m,\u001b[0m\u001b[1;33m\u001b[0m\u001b[1;33m\u001b[0m\u001b[0m\n\u001b[0;32m    167\u001b[0m             \u001b[0mcopy\u001b[0m\u001b[1;33m=\u001b[0m\u001b[0mcopy\u001b[0m\u001b[1;33m,\u001b[0m\u001b[1;33m\u001b[0m\u001b[1;33m\u001b[0m\u001b[0m\n\u001b[0;32m    168\u001b[0m         \u001b[1;33m)\u001b[0m\u001b[1;33m\u001b[0m\u001b[1;33m\u001b[0m\u001b[0m\n\u001b[0;32m    169\u001b[0m     \u001b[1;32melse\u001b[0m\u001b[1;33m:\u001b[0m\u001b[1;33m\u001b[0m\u001b[1;33m\u001b[0m\u001b[0m\n\u001b[1;32m--> 170\u001b[1;33m         op = _MergeOperation(\n\u001b[0m\u001b[0;32m    171\u001b[0m             \u001b[0mleft_df\u001b[0m\u001b[1;33m,\u001b[0m\u001b[1;33m\u001b[0m\u001b[1;33m\u001b[0m\u001b[0m\n\u001b[0;32m    172\u001b[0m             \u001b[0mright_df\u001b[0m\u001b[1;33m,\u001b[0m\u001b[1;33m\u001b[0m\u001b[1;33m\u001b[0m\u001b[0m\n\u001b[0;32m    173\u001b[0m             \u001b[0mhow\u001b[0m\u001b[1;33m=\u001b[0m\u001b[0mhow\u001b[0m\u001b[1;33m,\u001b[0m\u001b[1;33m\u001b[0m\u001b[1;33m\u001b[0m\u001b[0m\n",
      "\u001b[1;32mc:\\Users\\wsant\\AppData\\Local\\Programs\\Python\\Python312\\Lib\\site-packages\\pandas\\core\\reshape\\merge.py\u001b[0m in \u001b[0;36m?\u001b[1;34m(self, left, right, how, on, left_on, right_on, left_index, right_index, sort, suffixes, indicator, validate)\u001b[0m\n\u001b[0;32m    790\u001b[0m             \u001b[0mself\u001b[0m\u001b[1;33m.\u001b[0m\u001b[0mright_join_keys\u001b[0m\u001b[1;33m,\u001b[0m\u001b[1;33m\u001b[0m\u001b[1;33m\u001b[0m\u001b[0m\n\u001b[0;32m    791\u001b[0m             \u001b[0mself\u001b[0m\u001b[1;33m.\u001b[0m\u001b[0mjoin_names\u001b[0m\u001b[1;33m,\u001b[0m\u001b[1;33m\u001b[0m\u001b[1;33m\u001b[0m\u001b[0m\n\u001b[0;32m    792\u001b[0m             \u001b[0mleft_drop\u001b[0m\u001b[1;33m,\u001b[0m\u001b[1;33m\u001b[0m\u001b[1;33m\u001b[0m\u001b[0m\n\u001b[0;32m    793\u001b[0m             \u001b[0mright_drop\u001b[0m\u001b[1;33m,\u001b[0m\u001b[1;33m\u001b[0m\u001b[1;33m\u001b[0m\u001b[0m\n\u001b[1;32m--> 794\u001b[1;33m         \u001b[1;33m)\u001b[0m \u001b[1;33m=\u001b[0m \u001b[0mself\u001b[0m\u001b[1;33m.\u001b[0m\u001b[0m_get_merge_keys\u001b[0m\u001b[1;33m(\u001b[0m\u001b[1;33m)\u001b[0m\u001b[1;33m\u001b[0m\u001b[1;33m\u001b[0m\u001b[0m\n\u001b[0m\u001b[0;32m    795\u001b[0m \u001b[1;33m\u001b[0m\u001b[0m\n\u001b[0;32m    796\u001b[0m         \u001b[1;32mif\u001b[0m \u001b[0mleft_drop\u001b[0m\u001b[1;33m:\u001b[0m\u001b[1;33m\u001b[0m\u001b[1;33m\u001b[0m\u001b[0m\n\u001b[0;32m    797\u001b[0m             \u001b[0mself\u001b[0m\u001b[1;33m.\u001b[0m\u001b[0mleft\u001b[0m \u001b[1;33m=\u001b[0m \u001b[0mself\u001b[0m\u001b[1;33m.\u001b[0m\u001b[0mleft\u001b[0m\u001b[1;33m.\u001b[0m\u001b[0m_drop_labels_or_levels\u001b[0m\u001b[1;33m(\u001b[0m\u001b[0mleft_drop\u001b[0m\u001b[1;33m)\u001b[0m\u001b[1;33m\u001b[0m\u001b[1;33m\u001b[0m\u001b[0m\n",
      "\u001b[1;32mc:\\Users\\wsant\\AppData\\Local\\Programs\\Python\\Python312\\Lib\\site-packages\\pandas\\core\\reshape\\merge.py\u001b[0m in \u001b[0;36m?\u001b[1;34m(self)\u001b[0m\n\u001b[0;32m   1306\u001b[0m                     \u001b[1;32mif\u001b[0m \u001b[0mlk\u001b[0m \u001b[1;32mis\u001b[0m \u001b[1;32mnot\u001b[0m \u001b[1;32mNone\u001b[0m\u001b[1;33m:\u001b[0m\u001b[1;33m\u001b[0m\u001b[1;33m\u001b[0m\u001b[0m\n\u001b[0;32m   1307\u001b[0m                         \u001b[1;31m# Then we're either Hashable or a wrong-length arraylike,\u001b[0m\u001b[1;33m\u001b[0m\u001b[1;33m\u001b[0m\u001b[0m\n\u001b[0;32m   1308\u001b[0m                         \u001b[1;31m#  the latter of which will raise\u001b[0m\u001b[1;33m\u001b[0m\u001b[1;33m\u001b[0m\u001b[0m\n\u001b[0;32m   1309\u001b[0m                         \u001b[0mlk\u001b[0m \u001b[1;33m=\u001b[0m \u001b[0mcast\u001b[0m\u001b[1;33m(\u001b[0m\u001b[0mHashable\u001b[0m\u001b[1;33m,\u001b[0m \u001b[0mlk\u001b[0m\u001b[1;33m)\u001b[0m\u001b[1;33m\u001b[0m\u001b[1;33m\u001b[0m\u001b[0m\n\u001b[1;32m-> 1310\u001b[1;33m                         \u001b[0mleft_keys\u001b[0m\u001b[1;33m.\u001b[0m\u001b[0mappend\u001b[0m\u001b[1;33m(\u001b[0m\u001b[0mleft\u001b[0m\u001b[1;33m.\u001b[0m\u001b[0m_get_label_or_level_values\u001b[0m\u001b[1;33m(\u001b[0m\u001b[0mlk\u001b[0m\u001b[1;33m)\u001b[0m\u001b[1;33m)\u001b[0m\u001b[1;33m\u001b[0m\u001b[1;33m\u001b[0m\u001b[0m\n\u001b[0m\u001b[0;32m   1311\u001b[0m                         \u001b[0mjoin_names\u001b[0m\u001b[1;33m.\u001b[0m\u001b[0mappend\u001b[0m\u001b[1;33m(\u001b[0m\u001b[0mlk\u001b[0m\u001b[1;33m)\u001b[0m\u001b[1;33m\u001b[0m\u001b[1;33m\u001b[0m\u001b[0m\n\u001b[0;32m   1312\u001b[0m                     \u001b[1;32melse\u001b[0m\u001b[1;33m:\u001b[0m\u001b[1;33m\u001b[0m\u001b[1;33m\u001b[0m\u001b[0m\n\u001b[0;32m   1313\u001b[0m                         \u001b[1;31m# work-around for merge_asof(left_index=True)\u001b[0m\u001b[1;33m\u001b[0m\u001b[1;33m\u001b[0m\u001b[0m\n",
      "\u001b[1;32mc:\\Users\\wsant\\AppData\\Local\\Programs\\Python\\Python312\\Lib\\site-packages\\pandas\\core\\generic.py\u001b[0m in \u001b[0;36m?\u001b[1;34m(self, key, axis)\u001b[0m\n\u001b[0;32m   1907\u001b[0m             \u001b[0mvalues\u001b[0m \u001b[1;33m=\u001b[0m \u001b[0mself\u001b[0m\u001b[1;33m.\u001b[0m\u001b[0mxs\u001b[0m\u001b[1;33m(\u001b[0m\u001b[0mkey\u001b[0m\u001b[1;33m,\u001b[0m \u001b[0maxis\u001b[0m\u001b[1;33m=\u001b[0m\u001b[0mother_axes\u001b[0m\u001b[1;33m[\u001b[0m\u001b[1;36m0\u001b[0m\u001b[1;33m]\u001b[0m\u001b[1;33m)\u001b[0m\u001b[1;33m.\u001b[0m\u001b[0m_values\u001b[0m\u001b[1;33m\u001b[0m\u001b[1;33m\u001b[0m\u001b[0m\n\u001b[0;32m   1908\u001b[0m         \u001b[1;32melif\u001b[0m \u001b[0mself\u001b[0m\u001b[1;33m.\u001b[0m\u001b[0m_is_level_reference\u001b[0m\u001b[1;33m(\u001b[0m\u001b[0mkey\u001b[0m\u001b[1;33m,\u001b[0m \u001b[0maxis\u001b[0m\u001b[1;33m=\u001b[0m\u001b[0maxis\u001b[0m\u001b[1;33m)\u001b[0m\u001b[1;33m:\u001b[0m\u001b[1;33m\u001b[0m\u001b[1;33m\u001b[0m\u001b[0m\n\u001b[0;32m   1909\u001b[0m             \u001b[0mvalues\u001b[0m \u001b[1;33m=\u001b[0m \u001b[0mself\u001b[0m\u001b[1;33m.\u001b[0m\u001b[0maxes\u001b[0m\u001b[1;33m[\u001b[0m\u001b[0maxis\u001b[0m\u001b[1;33m]\u001b[0m\u001b[1;33m.\u001b[0m\u001b[0mget_level_values\u001b[0m\u001b[1;33m(\u001b[0m\u001b[0mkey\u001b[0m\u001b[1;33m)\u001b[0m\u001b[1;33m.\u001b[0m\u001b[0m_values\u001b[0m\u001b[1;33m\u001b[0m\u001b[1;33m\u001b[0m\u001b[0m\n\u001b[0;32m   1910\u001b[0m         \u001b[1;32melse\u001b[0m\u001b[1;33m:\u001b[0m\u001b[1;33m\u001b[0m\u001b[1;33m\u001b[0m\u001b[0m\n\u001b[1;32m-> 1911\u001b[1;33m             \u001b[1;32mraise\u001b[0m \u001b[0mKeyError\u001b[0m\u001b[1;33m(\u001b[0m\u001b[0mkey\u001b[0m\u001b[1;33m)\u001b[0m\u001b[1;33m\u001b[0m\u001b[1;33m\u001b[0m\u001b[0m\n\u001b[0m\u001b[0;32m   1912\u001b[0m \u001b[1;33m\u001b[0m\u001b[0m\n\u001b[0;32m   1913\u001b[0m         \u001b[1;31m# Check for duplicates\u001b[0m\u001b[1;33m\u001b[0m\u001b[1;33m\u001b[0m\u001b[0m\n\u001b[0;32m   1914\u001b[0m         \u001b[1;32mif\u001b[0m \u001b[0mvalues\u001b[0m\u001b[1;33m.\u001b[0m\u001b[0mndim\u001b[0m \u001b[1;33m>\u001b[0m \u001b[1;36m1\u001b[0m\u001b[1;33m:\u001b[0m\u001b[1;33m\u001b[0m\u001b[1;33m\u001b[0m\u001b[0m\n",
      "\u001b[1;31mKeyError\u001b[0m: 'YEAR'"
     ]
    }
   ],
   "source": [
    "filtered.merge(average_income, how='right', on='YEAR')"
   ]
  }
 ],
 "metadata": {
  "kernelspec": {
   "display_name": "Python 3 (ipykernel)",
   "language": "python",
   "name": "python3"
  },
  "language_info": {
   "codemirror_mode": {
    "name": "ipython",
    "version": 3
   },
   "file_extension": ".py",
   "mimetype": "text/x-python",
   "name": "python",
   "nbconvert_exporter": "python",
   "pygments_lexer": "ipython3",
   "version": "3.12.2"
  }
 },
 "nbformat": 4,
 "nbformat_minor": 5
}
