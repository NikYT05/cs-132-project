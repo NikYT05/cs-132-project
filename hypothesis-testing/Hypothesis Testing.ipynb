{
 "cells": [
  {
   "cell_type": "markdown",
   "id": "b3fd1b74-0d3b-426f-8724-953b764689e2",
   "metadata": {},
   "source": [
    "# Hypothesis Testing\n",
    "For our hypothesis test, we will be using <BLANK>"
   ]
  },
  {
   "cell_type": "markdown",
   "id": "f7f3a550-1938-40af-a54d-86665459c31d",
   "metadata": {},
   "source": [
    "# Research Questions\n",
    "1. Is there a significant difference in average household income between urban and rural areas in the Philippines?\n",
    "\n",
    "2. Does the cost of living affect the income disparity between urban and rural areas?\n"
   ]
  },
  {
   "cell_type": "code",
   "execution_count": 8,
   "id": "9a8b7b46-46aa-49b0-8182-3fc9e0c697f6",
   "metadata": {},
   "outputs": [],
   "source": [
    "import re\n",
    "import pandas as pd\n",
    "import scipy\n",
    "import numpy as np\n",
    "import matplotlib.pyplot as plt\n",
    "import statsmodels.api as sm\n",
    "\n",
    "def convert_google_sheet_url(url):\n",
    "    # Regular expression to match and capture the necessary part of the URL\n",
    "    pattern = r'https://docs\\.google\\.com/spreadsheets/d/([a-zA-Z0-9-_]+)(/edit#gid=(\\d+)|/edit.*)?'\n",
    "\n",
    "    # Replace function to construct the new URL for CSV export\n",
    "    # If gid is present in the URL, it includes it in the export URL, otherwise, it's omitted\n",
    "    replacement = lambda m: f'https://docs.google.com/spreadsheets/d/{m.group(1)}/export?' + (f'gid={m.group(3)}&' if m.group(3) else '') + 'format=csv'\n",
    "\n",
    "    # Replace using regex\n",
    "    new_url = re.sub(pattern, replacement, url)\n",
    "\n",
    "    return new_url"
   ]
  },
  {
   "cell_type": "markdown",
   "id": "a55c526f-ec72-4821-b1c1-bc1f577169eb",
   "metadata": {},
   "source": [
    "# Preprocessing\n",
    "We will stich together the multiple sheets into one mastersheet so that we can properly do some magic. Below are some functions used to effectively preprocess the data.\n",
    "\n",
    "To easily separate them, we add a new column called 'YEAR' which contains which year in which the FIES was collected"
   ]
  },
  {
   "cell_type": "code",
   "execution_count": 3,
   "id": "ed78b479-77c4-4db2-ad2d-ab912a4f47e7",
   "metadata": {},
   "outputs": [
    {
     "name": "stdout",
     "output_type": "stream",
     "text": [
      "complete\n",
      "complete\n",
      "complete\n",
      "complete\n",
      "complete\n",
      "complete\n",
      "complete\n",
      "complete\n",
      "complete\n",
      "complete\n"
     ]
    }
   ],
   "source": [
    "dataset_url = 'https://docs.google.com/spreadsheets/d/1WvPYjCbY-jXhDB_-R0UMtUXj_fmhGbsM/edit'\n",
    "dataset_sheets = [\n",
    "    (1991, 'https://docs.google.com/spreadsheets/d/1WvPYjCbY-jXhDB_-R0UMtUXj_fmhGbsM/edit#gid=103037532'),\n",
    "    (1994, 'https://docs.google.com/spreadsheets/d/1WvPYjCbY-jXhDB_-R0UMtUXj_fmhGbsM/edit#gid=2100587492'),\n",
    "    (1997, 'https://docs.google.com/spreadsheets/d/1WvPYjCbY-jXhDB_-R0UMtUXj_fmhGbsM/edit#gid=172281918'),\n",
    "    (2000, 'https://docs.google.com/spreadsheets/d/1WvPYjCbY-jXhDB_-R0UMtUXj_fmhGbsM/edit#gid=1648603626'),\n",
    "    (2003, 'https://docs.google.com/spreadsheets/d/1WvPYjCbY-jXhDB_-R0UMtUXj_fmhGbsM/edit#gid=308318816'),\n",
    "    (2006, 'https://docs.google.com/spreadsheets/d/1WvPYjCbY-jXhDB_-R0UMtUXj_fmhGbsM/edit#gid=284607147'),\n",
    "    (2009, 'https://docs.google.com/spreadsheets/d/1WvPYjCbY-jXhDB_-R0UMtUXj_fmhGbsM/edit#gid=457620696'),\n",
    "    (2012, 'https://docs.google.com/spreadsheets/d/1WvPYjCbY-jXhDB_-R0UMtUXj_fmhGbsM/edit#gid=2124514616'),\n",
    "    (2015, 'https://docs.google.com/spreadsheets/d/1WvPYjCbY-jXhDB_-R0UMtUXj_fmhGbsM/edit#gid=174256795'),\n",
    "    (2018, 'https://docs.google.com/spreadsheets/d/1WvPYjCbY-jXhDB_-R0UMtUXj_fmhGbsM/edit#gid=1844728002'),\n",
    "]\n",
    "\n",
    "sheets = []\n",
    "\n",
    "# TODO - Standardize this \n",
    "for year, sheet in dataset_sheets:\n",
    "    print(year, end='\\r')\n",
    "    proper_url = convert_google_sheet_url(sheet)\n",
    "    gsheet = pd.read_csv(proper_url, low_memory=False)\n",
    "    gsheet.insert(0, 'YEAR', year)\n",
    "    print('complete')\n",
    "    sheets.append(gsheet)\n",
    "\n",
    "dataset = pd.concat(sheets)"
   ]
  },
  {
   "cell_type": "code",
   "execution_count": 9,
   "id": "ff0c9374-0d3b-4d3a-a7f7-d2223795a93b",
   "metadata": {},
   "outputs": [
    {
     "data": {
      "text/html": [
       "<div>\n",
       "<style scoped>\n",
       "    .dataframe tbody tr th:only-of-type {\n",
       "        vertical-align: middle;\n",
       "    }\n",
       "\n",
       "    .dataframe tbody tr th {\n",
       "        vertical-align: top;\n",
       "    }\n",
       "\n",
       "    .dataframe thead th {\n",
       "        text-align: right;\n",
       "    }\n",
       "</style>\n",
       "<table border=\"1\" class=\"dataframe\">\n",
       "  <thead>\n",
       "    <tr style=\"text-align: right;\">\n",
       "      <th></th>\n",
       "      <th>YEAR</th>\n",
       "      <th>REGN</th>\n",
       "      <th>URB</th>\n",
       "      <th>TOINC</th>\n",
       "    </tr>\n",
       "  </thead>\n",
       "  <tbody>\n",
       "    <tr>\n",
       "      <th>0</th>\n",
       "      <td>1991</td>\n",
       "      <td>0</td>\n",
       "      <td>1.0</td>\n",
       "      <td>42153.0</td>\n",
       "    </tr>\n",
       "    <tr>\n",
       "      <th>1</th>\n",
       "      <td>1991</td>\n",
       "      <td>0</td>\n",
       "      <td>1.0</td>\n",
       "      <td>26938.0</td>\n",
       "    </tr>\n",
       "    <tr>\n",
       "      <th>2</th>\n",
       "      <td>1991</td>\n",
       "      <td>0</td>\n",
       "      <td>1.0</td>\n",
       "      <td>84773.0</td>\n",
       "    </tr>\n",
       "    <tr>\n",
       "      <th>3</th>\n",
       "      <td>1991</td>\n",
       "      <td>0</td>\n",
       "      <td>1.0</td>\n",
       "      <td>56075.0</td>\n",
       "    </tr>\n",
       "    <tr>\n",
       "      <th>4</th>\n",
       "      <td>1991</td>\n",
       "      <td>0</td>\n",
       "      <td>1.0</td>\n",
       "      <td>45658.0</td>\n",
       "    </tr>\n",
       "    <tr>\n",
       "      <th>...</th>\n",
       "      <td>...</td>\n",
       "      <td>...</td>\n",
       "      <td>...</td>\n",
       "      <td>...</td>\n",
       "    </tr>\n",
       "    <tr>\n",
       "      <th>147712</th>\n",
       "      <td>2018</td>\n",
       "      <td>17</td>\n",
       "      <td>2.0</td>\n",
       "      <td>382676.0</td>\n",
       "    </tr>\n",
       "    <tr>\n",
       "      <th>147713</th>\n",
       "      <td>2018</td>\n",
       "      <td>17</td>\n",
       "      <td>2.0</td>\n",
       "      <td>184325.0</td>\n",
       "    </tr>\n",
       "    <tr>\n",
       "      <th>147714</th>\n",
       "      <td>2018</td>\n",
       "      <td>17</td>\n",
       "      <td>2.0</td>\n",
       "      <td>900861.0</td>\n",
       "    </tr>\n",
       "    <tr>\n",
       "      <th>147715</th>\n",
       "      <td>2018</td>\n",
       "      <td>17</td>\n",
       "      <td>2.0</td>\n",
       "      <td>65255.0</td>\n",
       "    </tr>\n",
       "    <tr>\n",
       "      <th>147716</th>\n",
       "      <td>2018</td>\n",
       "      <td>17</td>\n",
       "      <td>2.0</td>\n",
       "      <td>167272.0</td>\n",
       "    </tr>\n",
       "  </tbody>\n",
       "</table>\n",
       "<p>435036 rows × 4 columns</p>\n",
       "</div>"
      ],
      "text/plain": [
       "        YEAR REGN  URB     TOINC\n",
       "0       1991    0  1.0   42153.0\n",
       "1       1991    0  1.0   26938.0\n",
       "2       1991    0  1.0   84773.0\n",
       "3       1991    0  1.0   56075.0\n",
       "4       1991    0  1.0   45658.0\n",
       "...      ...  ...  ...       ...\n",
       "147712  2018   17  2.0  382676.0\n",
       "147713  2018   17  2.0  184325.0\n",
       "147714  2018   17  2.0  900861.0\n",
       "147715  2018   17  2.0   65255.0\n",
       "147716  2018   17  2.0  167272.0\n",
       "\n",
       "[435036 rows x 4 columns]"
      ]
     },
     "execution_count": 9,
     "metadata": {},
     "output_type": "execute_result"
    }
   ],
   "source": [
    "dataset['TOINC'] = pd.to_numeric(dataset['TOINC'], errors='coerce')\n",
    "dataset['YEAR'] = pd.to_numeric(dataset['YEAR'], errors='coerce')\n",
    "dataset['URB'] = pd.to_numeric(dataset['URB'], errors='coerce')\n",
    "\n",
    "fixed_dataset = dataset.dropna(axis='rows')\n",
    "fixed_dataset"
   ]
  },
  {
   "cell_type": "markdown",
   "id": "d312aac5-8bdb-4a9b-a202-8519f4feaf5c",
   "metadata": {},
   "source": [
    "# Research Question 1\n",
    "> Is there a significant difference in average household income between urban and rural areas in the Philippines?\n",
    "\n",
    "To test our hypothesis, we decided to use a 1-sample t-test for our hypothesis test. We used two variables, Urbanity and Total Income for this"
   ]
  },
  {
   "cell_type": "code",
   "execution_count": 20,
   "id": "a5f83c1a",
   "metadata": {},
   "outputs": [
    {
     "data": {
      "text/plain": [
       "TtestResult(statistic=421.8469444719112, pvalue=0.0, df=870070.0)"
      ]
     },
     "execution_count": 20,
     "metadata": {},
     "output_type": "execute_result"
    }
   ],
   "source": [
    "import scipy.stats\n",
    "\n",
    "\n",
    "a = fixed_dataset.loc[:, 'TOINC']\n",
    "b = fixed_dataset.loc[:, 'URB']\n",
    "\n",
    "scipy.stats.ttest_ind(a,b)"
   ]
  },
  {
   "cell_type": "markdown",
   "id": "b36fe07a",
   "metadata": {},
   "source": [
    "Based from the above test, there seems to be a relationship between urbanity and the total income between the regions"
   ]
  },
  {
   "cell_type": "markdown",
   "id": "f4bc73ce",
   "metadata": {},
   "source": [
    "# Research Question 2\n",
    "> Does the cost of living affect the income disparity between urban and rural areas?\n",
    "\n",
    "Please help... :((\n",
    "\n",
    "What hypothesis test am I supposed to use with this? \n"
   ]
  },
  {
   "cell_type": "markdown",
   "id": "9f8894cc",
   "metadata": {},
   "source": []
  }
 ],
 "metadata": {
  "kernelspec": {
   "display_name": "Python 3 (ipykernel)",
   "language": "python",
   "name": "python3"
  },
  "language_info": {
   "codemirror_mode": {
    "name": "ipython",
    "version": 3
   },
   "file_extension": ".py",
   "mimetype": "text/x-python",
   "name": "python",
   "nbconvert_exporter": "python",
   "pygments_lexer": "ipython3",
   "version": "3.12.2"
  }
 },
 "nbformat": 4,
 "nbformat_minor": 5
}
